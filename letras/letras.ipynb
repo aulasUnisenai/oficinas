{
  "nbformat": 4,
  "nbformat_minor": 0,
  "metadata": {
    "colab": {
      "provenance": []
    },
    "kernelspec": {
      "name": "python3",
      "display_name": "Python 3"
    },
    "language_info": {
      "name": "python"
    }
  },
  "cells": [
    {
      "cell_type": "markdown",
      "source": [
        "# Bibliotecas e módulos"
      ],
      "metadata": {
        "id": "NUpJiTEJmssb"
      }
    },
    {
      "cell_type": "code",
      "source": [
        "# Instalações\n",
        "!pip install --upgrade plotly\n",
        "!pip install -U kaleido"
      ],
      "metadata": {
        "id": "WyD1v9Q-nYAr"
      },
      "execution_count": null,
      "outputs": []
    },
    {
      "cell_type": "code",
      "source": [
        "# Bibliotecas\n",
        "import os\n",
        "import requests\n",
        "from bs4 import BeautifulSoup\n",
        "import pandas as pd\n",
        "import nltk\n",
        "from nltk.corpus import stopwords\n",
        "from nltk.stem import WordNetLemmatizer\n",
        "from nltk.corpus import wordnet\n",
        "import warnings\n",
        "import numpy as np\n",
        "warnings.filterwarnings('ignore')\n",
        "import re\n",
        "import spacy\n",
        "from nltk.sentiment.vader import SentimentIntensityAnalyzer\n",
        "import plotly.offline as py\n",
        "import plotly.graph_objs as go\n",
        "import plotly\n",
        "import kaleido\n",
        "from wordcloud import WordCloud\n",
        "import plotly.express as px\n",
        "import io\n",
        "from PIL import Image\n",
        "import plotly.subplots as sp\n",
        "import math\n",
        "from collections import Counter"
      ],
      "metadata": {
        "id": "s22KCH4jmvz8"
      },
      "execution_count": null,
      "outputs": []
    },
    {
      "cell_type": "code",
      "source": [
        "# Importar módulos\n",
        "nltk.download('punkt')\n",
        "nltk.download('stopwords')\n",
        "nltk.download('averaged_perceptron_tagger')\n",
        "nltk.download('wordnet')\n",
        "nltk.download('vader_lexicon')"
      ],
      "metadata": {
        "id": "1IzDUIx2nUjk"
      },
      "execution_count": null,
      "outputs": []
    },
    {
      "cell_type": "markdown",
      "source": [
        "# Etapas"
      ],
      "metadata": {
        "id": "ITIhtwcWwM7X"
      }
    },
    {
      "cell_type": "markdown",
      "source": [
        "## Coleta"
      ],
      "metadata": {
        "id": "SDzEw4xkw-JG"
      }
    },
    {
      "cell_type": "code",
      "source": [
        "class LetrasMusica:\n",
        "    def __init__(self):\n",
        "        self.base_url = \"https://www.letras.mus.br/\"\n",
        "        self.session = requests.Session()\n",
        "\n",
        "    def salvar_letra(self, nome_artista, nome_musica, letra_musica):\n",
        "        # Substitui caracteres inválidos no nome da música para o sistema de arquivos\n",
        "        nome_musica = nome_musica.replace(\"/\", \"_\").replace(\"\\\\\", \"_\").replace(\":\", \"-\")\n",
        "\n",
        "        diretorio = f\"./letras/{nome_artista}\"\n",
        "        os.makedirs(diretorio, exist_ok=True)  # Cria o diretório se não existir\n",
        "\n",
        "        caminho_arquivo = os.path.join(diretorio, f\"{nome_musica}.txt\")\n",
        "        with open(caminho_arquivo, 'w', encoding='utf-8') as arquivo:\n",
        "            arquivo.write(letra_musica)\n",
        "\n",
        "    def extrair_letra(self, url):\n",
        "        try:\n",
        "            response = self.session.get(url)\n",
        "            response.raise_for_status()  # Lança um erro se a requisição falhar\n",
        "\n",
        "            soup = BeautifulSoup(response.content, 'html.parser')\n",
        "\n",
        "            # Encontrar o elemento que contém a letra da música\n",
        "            letra_element = soup.find('div', class_='lyric-original')\n",
        "\n",
        "            if letra_element:\n",
        "                # Extrair o texto da letra da música\n",
        "                letra_musica = letra_element.get_text(separator='\\n')\n",
        "                return letra_musica.strip()\n",
        "            else:\n",
        "                print(f\"Letra não encontrada para {url}\")\n",
        "                return \"\"\n",
        "\n",
        "        except Exception as e:\n",
        "            print(f\"Erro ao extrair letra de {url}: {e}\")\n",
        "            return \"\"\n",
        "\n",
        "    def extrair_letras(self, artistas):\n",
        "        for artista in artistas:\n",
        "            url_artista = f\"{self.base_url}{artista}/\"\n",
        "\n",
        "            try:\n",
        "                response = self.session.get(url_artista)\n",
        "                response.raise_for_status()  # Lança um erro se a requisição falhar\n",
        "\n",
        "                soup = BeautifulSoup(response.content, 'html.parser')\n",
        "\n",
        "                # Encontrar todas as entradas de músicas\n",
        "                entradas_musica = soup.find_all('li', class_='songList-table-row --song')\n",
        "\n",
        "                for entrada in entradas_musica:\n",
        "                    # Extrair o nome da música e o nome do artista\n",
        "                    nome_musica = entrada.find('span').text.strip()\n",
        "                    nome_artista = entrada['data-artist']\n",
        "\n",
        "                    # Extrair a URL da letra da música\n",
        "                    url_letra = f\"{self.base_url}{entrada.a['href']}\"\n",
        "\n",
        "                    # Extrair a letra da música\n",
        "                    letra_musica = self.extrair_letra(url_letra)\n",
        "\n",
        "                    # Salvar a letra da música em um arquivo\n",
        "                    self.salvar_letra(nome_artista, nome_musica, letra_musica)\n",
        "                    print(f\"Letra salva para: {nome_musica} - {nome_artista}\")\n",
        "\n",
        "            except Exception as e:\n",
        "                print(f\"Erro ao extrair letras do artista {url_artista}: {e}\")"
      ],
      "metadata": {
        "id": "ON4RpWMB_-D-"
      },
      "execution_count": null,
      "outputs": []
    },
    {
      "cell_type": "markdown",
      "source": [
        "## Funções"
      ],
      "metadata": {
        "id": "Jnj7c7qnxBCP"
      }
    },
    {
      "cell_type": "code",
      "source": [
        "def carregar_letras_em_df(diretorio_base='./letras'):\n",
        "    dados_letras = []\n",
        "\n",
        "    # Percorrer o diretório base (onde estão as pastas com os artistas)\n",
        "    for nome_artista in os.listdir(diretorio_base):\n",
        "        caminho_artista = os.path.join(diretorio_base, nome_artista)\n",
        "\n",
        "        if os.path.isdir(caminho_artista):  # Verifica se é uma pasta (um artista)\n",
        "            # Percorrer as músicas dentro da pasta do artista\n",
        "            for nome_musica in os.listdir(caminho_artista):\n",
        "                caminho_musica = os.path.join(caminho_artista, nome_musica)\n",
        "\n",
        "                if nome_musica.endswith('.txt'):  # Verifica se é um arquivo .txt (uma letra)\n",
        "                    # Abrir o arquivo e ler o conteúdo\n",
        "                    with open(caminho_musica, 'r', encoding='utf-8') as arquivo:\n",
        "                        letra_musica = arquivo.read().strip()\n",
        "\n",
        "                    # Adicionar os dados ao DataFrame\n",
        "                    dados_letras.append({\n",
        "                        'artista': nome_artista,\n",
        "                        'musica': nome_musica.replace('.txt', ''),\n",
        "                        'letra': letra_musica\n",
        "                    })\n",
        "\n",
        "    # Criar o DataFrame com os dados das letras\n",
        "    df_letras = pd.DataFrame(dados_letras, columns=['artista', 'musica', 'letra'])\n",
        "\n",
        "    return df_letras"
      ],
      "metadata": {
        "id": "HQG21EUe5SzM"
      },
      "execution_count": null,
      "outputs": []
    },
    {
      "cell_type": "code",
      "source": [
        "# Função para \"limpeza\"\n",
        "def preprocess_text(text):\n",
        "    # Remover caracteres especiais e números, deixando apenas palavras\n",
        "    text = re.sub(r'[^a-zA-Z\\s]', '', text)\n",
        "    # Converter o texto para letras minúsculas\n",
        "    text = text.lower()\n",
        "\n",
        "    # Tokenizar o texto com spaCy\n",
        "    doc = nlp(text)\n",
        "\n",
        "    # Lematizar as palavras e remover stop words\n",
        "    lemmatized_text = ' '.join([token.lemma_ for token in\n",
        "                                doc if token.text not in\n",
        "                                stopwords.words('english') and\n",
        "                                len(token) > 4])\n",
        "\n",
        "    return lemmatized_text"
      ],
      "metadata": {
        "id": "-T6RUzVm6MHl"
      },
      "execution_count": null,
      "outputs": []
    },
    {
      "cell_type": "code",
      "source": [
        "# Função para gerar uma imagem de nuvem de palavras a partir do texto\n",
        "def gerar_imagem_nuvem(texto):\n",
        "    wordcloud = WordCloud(width=800, height=400, background_color='white').generate(texto)\n",
        "    imagem_buffer = io.BytesIO()\n",
        "    wordcloud.to_image().save(imagem_buffer, format='PNG')\n",
        "    imagem_buffer.seek(0)\n",
        "    return Image.open(imagem_buffer)"
      ],
      "metadata": {
        "id": "BbPzPSIgCglr"
      },
      "execution_count": null,
      "outputs": []
    },
    {
      "cell_type": "code",
      "source": [
        "# Função para gerar e exibir as nuvens de palavras organizadas em subplots dois por dois\n",
        "def gerar_nuvens_em_subplots(df):\n",
        "    # Contar o número de artistas únicos\n",
        "    artistas_unicos = df['artista'].nunique()\n",
        "\n",
        "    # Definir o número de colunas e calcular o número de linhas necessário\n",
        "    colunas = 2\n",
        "    linhas = math.ceil(artistas_unicos / colunas)\n",
        "\n",
        "    # Criar os subplots - várias linhas e duas colunas\n",
        "    fig = sp.make_subplots(rows=linhas, cols=colunas, subplot_titles=df['artista'].unique())\n",
        "\n",
        "    # Percorrer cada artista e adicionar uma nuvem de palavras ao subplot correspondente\n",
        "    for idx, (artista, grupo) in enumerate(df.groupby('artista'), 1):\n",
        "        # Unir as letras limpas desse artista\n",
        "        texto_unido = ' '.join(grupo['letrasLimpas'])\n",
        "\n",
        "        # Gerar a imagem da nuvem de palavras\n",
        "        imagem = gerar_imagem_nuvem(texto_unido)\n",
        "\n",
        "        # Converter a imagem para uma figura Plotly\n",
        "        fig_image = px.imshow(imagem).data[0]\n",
        "\n",
        "        # Calcular a linha e coluna correspondentes para o subplot\n",
        "        linha = math.ceil(idx / colunas)\n",
        "        coluna = idx % colunas if idx % colunas != 0 else colunas\n",
        "\n",
        "        # Adicionar a imagem ao subplot\n",
        "        fig.add_trace(fig_image, row=linha, col=coluna)\n",
        "\n",
        "    # Atualizar o layout para remover os eixos e melhorar o espaçamento\n",
        "    fig.update_layout(\n",
        "        height=linhas * 500,  # Ajustar altura com base no número de linhas\n",
        "        width=colunas * 500,  # Ajustar largura com base no número de colunas\n",
        "        showlegend=False,\n",
        "        margin=dict(l=10, r=10, t=40, b=10)\n",
        "    )\n",
        "\n",
        "    # Remover as etiquetas dos eixos em todos os subplots\n",
        "    for i in range(1, artistas_unicos + 1):\n",
        "        linha = math.ceil(i / colunas)\n",
        "        coluna = i % colunas if i % colunas != 0 else colunas\n",
        "        fig.update_xaxes(showticklabels=False, row=linha, col=coluna)\n",
        "        fig.update_yaxes(showticklabels=False, row=linha, col=coluna)\n",
        "\n",
        "    # Exibir o gráfico com as nuvens organizadas\n",
        "    fig.show()"
      ],
      "metadata": {
        "id": "fO12QvteAuRU"
      },
      "execution_count": null,
      "outputs": []
    },
    {
      "cell_type": "code",
      "source": [
        "# Função para contar os termos mais utilizados por cada artista\n",
        "def contar_termos_mais_frequentes(df, top_n=10):\n",
        "    # Agrupar as letras limpas por artista\n",
        "    termos_frequentes_por_artista = {}\n",
        "\n",
        "    for artista, grupo in df.groupby('artista'):\n",
        "        # Unir todas as letras limpas desse artista em uma única string\n",
        "        texto_unido = ' '.join(grupo['letrasLimpas'])\n",
        "\n",
        "        # Quebrar o texto em palavras e contar a frequência de cada uma\n",
        "        palavras = texto_unido.split()\n",
        "        contagem_palavras = Counter(palavras)\n",
        "\n",
        "        # Selecionar as top N palavras mais frequentes\n",
        "        termos_frequentes_por_artista[artista] = contagem_palavras.most_common(top_n)\n",
        "\n",
        "    return termos_frequentes_por_artista"
      ],
      "metadata": {
        "id": "r44fbWDpDZXj"
      },
      "execution_count": null,
      "outputs": []
    },
    {
      "cell_type": "code",
      "source": [
        "# Função para gerar gráficos de barras por artista\n",
        "def gerar_graficos_barras(termos_mais_utilizados):\n",
        "    # Contar o número de artistas únicos\n",
        "    artistas_unicos = len(termos_mais_utilizados)\n",
        "\n",
        "    # Definir o número de colunas e calcular o número de linhas necessário para os subplots\n",
        "    colunas = 2\n",
        "    linhas = math.ceil(artistas_unicos / colunas)\n",
        "\n",
        "    # Criar os subplots\n",
        "    fig = sp.make_subplots(rows=linhas, cols=colunas, subplot_titles=list(termos_mais_utilizados.keys()))\n",
        "\n",
        "    # Adicionar os gráficos de barras a cada subplot\n",
        "    for idx, (artista, termos) in enumerate(termos_mais_utilizados.items(), start=1):\n",
        "        # Classificar os termos por frequência (maior para menor)\n",
        "        termos_sorted = sorted(termos, key=lambda x: x[1], reverse=True)\n",
        "\n",
        "        # Preparar os dados\n",
        "        termos_labels = [termo[0] for termo in termos_sorted]\n",
        "        frequencias = [termo[1] for termo in termos_sorted]\n",
        "\n",
        "        # Criar o gráfico de barras\n",
        "        trace = go.Bar(\n",
        "            x=frequencias,\n",
        "            y=termos_labels,\n",
        "            orientation='h',  # Barras horizontais\n",
        "            marker=dict(color='lightskyblue')\n",
        "        )\n",
        "\n",
        "        # Calcular a linha e a coluna correspondentes para o subplot\n",
        "        linha = math.ceil(idx / colunas)\n",
        "        coluna = (idx - 1) % colunas + 1\n",
        "\n",
        "        # Adicionar o gráfico de barras ao subplot\n",
        "        fig.add_trace(trace, row=linha, col=coluna)\n",
        "\n",
        "        # Inverter a ordem do eixo y para mostrar o maior termo no topo\n",
        "        fig.update_yaxes(categoryorder='total ascending', row=linha, col=coluna)\n",
        "\n",
        "    # Atualizar o layout dos subplots\n",
        "    fig.update_layout(\n",
        "        height=linhas * 500,  # Ajustar altura com base no número de linhas\n",
        "        width=colunas * 600,  # Ajustar largura com base no número de colunas\n",
        "        title_text=\"Termos Mais Frequentes por Artista (Ordenados do Maior para o Menor)\",\n",
        "        showlegend=False,\n",
        "        margin=dict(l=40, r=40, t=80, b=40)\n",
        "    )\n",
        "\n",
        "    # Exibir o gráfico\n",
        "    fig.show()"
      ],
      "metadata": {
        "id": "7STxZBYdGfMZ"
      },
      "execution_count": null,
      "outputs": []
    },
    {
      "cell_type": "code",
      "source": [
        "# Função para calcular a média de palavras por artista\n",
        "def calcular_media_palavras(df):\n",
        "    media_palavras_por_artista = {}\n",
        "\n",
        "    for artista, grupo in df.groupby('artista'):\n",
        "        total_palavras = sum(grupo['letrasLimpas'].apply(lambda x: len(x.split())))\n",
        "        media_palavras_por_artista[artista] = total_palavras / len(grupo)\n",
        "\n",
        "    return media_palavras_por_artista"
      ],
      "metadata": {
        "id": "rRBdKuFEK3d6"
      },
      "execution_count": null,
      "outputs": []
    },
    {
      "cell_type": "code",
      "source": [
        "# Função para gerar gráfico de média de palavras por artista\n",
        "def gerar_grafico_media_palavras(media_palavras):\n",
        "    artistas = list(media_palavras.keys())\n",
        "    medias = list(media_palavras.values())\n",
        "\n",
        "    # Criar gráfico de barras\n",
        "    fig = go.Figure()\n",
        "\n",
        "    fig.add_trace(go.Bar(\n",
        "        x=artistas,\n",
        "        y=medias,\n",
        "        marker=dict(color='lightskyblue')\n",
        "    ))\n",
        "\n",
        "    # Atualizar layout\n",
        "    fig.update_layout(\n",
        "        title='Média de Palavras por Artista',\n",
        "        xaxis_title='Artista',\n",
        "        yaxis_title='Média de Palavras',\n",
        "        showlegend=False,\n",
        "        margin=dict(l=40, r=40, t=80, b=40)\n",
        "    )\n",
        "\n",
        "    # Exibir o gráfico\n",
        "    fig.show()"
      ],
      "metadata": {
        "id": "0khywvIzK9g-"
      },
      "execution_count": null,
      "outputs": []
    },
    {
      "cell_type": "markdown",
      "source": [
        "# Mãos na Massa"
      ],
      "metadata": {
        "id": "Ykd2JOywmpbj"
      }
    },
    {
      "cell_type": "markdown",
      "source": [
        "## Coletar as letras"
      ],
      "metadata": {
        "id": "n9ble8_hAlAc"
      }
    },
    {
      "cell_type": "code",
      "source": [
        "# Coletar as letras\n",
        "if __name__ == \"__main__\":\n",
        "    artistas = input(\"Digite os nomes dos artistas (separados por vírgula): \").split(',')\n",
        "\n",
        "    letras_musica = LetrasMusica()\n",
        "    letras_musica.extrair_letras(artistas)"
      ],
      "metadata": {
        "id": "F3lQ3iGGvgnP"
      },
      "execution_count": null,
      "outputs": []
    },
    {
      "cell_type": "markdown",
      "source": [
        "## Pré-processamento"
      ],
      "metadata": {
        "id": "YX6csQUNEaO6"
      }
    },
    {
      "cell_type": "code",
      "source": [
        "# Carregar as letras em um DataFrame\n",
        "df_letras = carregar_letras_em_df()\n",
        "\n",
        "# Salvar\n",
        "df_letras.to_excel('letras.xlsx', index=False)"
      ],
      "metadata": {
        "id": "NlgHxzEvvmG4"
      },
      "execution_count": null,
      "outputs": []
    },
    {
      "cell_type": "code",
      "source": [
        "# Carregar a base\n",
        "df = pd.read_excel('/content/letras.xlsx')"
      ],
      "metadata": {
        "id": "pTEarrGHv4qp"
      },
      "execution_count": null,
      "outputs": []
    },
    {
      "cell_type": "code",
      "source": [
        "# Carregar o modelo de língua em inglês do spaCy\n",
        "nlp = spacy.load(\"en_core_web_sm\")"
      ],
      "metadata": {
        "id": "dKMUbuKsITFv"
      },
      "execution_count": null,
      "outputs": []
    },
    {
      "cell_type": "code",
      "source": [
        "# Limpar o texto\n",
        "df['letrasLimpas'] = df['letra'].apply(preprocess_text)\n",
        "df"
      ],
      "metadata": {
        "id": "w_sAp2dK6Nsb"
      },
      "execution_count": null,
      "outputs": []
    },
    {
      "cell_type": "markdown",
      "source": [
        "## Analisar"
      ],
      "metadata": {
        "id": "mYaOkuEtEeUB"
      }
    },
    {
      "cell_type": "code",
      "source": [
        "# Análise de sentimentos\n",
        "sid = SentimentIntensityAnalyzer()\n",
        "sentimentos = df.apply(lambda r: sid.polarity_scores(r['letra']), axis=1)\n",
        "\n",
        "# Adicionar os scores à base original.\n",
        "d = pd.DataFrame(list(sentimentos))\n",
        "df = df.join(d)\n",
        "df.dropna(inplace=True)"
      ],
      "metadata": {
        "id": "p0TFTAFW6-J7"
      },
      "execution_count": null,
      "outputs": []
    },
    {
      "cell_type": "code",
      "source": [
        "# Filtrar o DataFrame para a década desejada e calcular a média de 'compound' por artista\n",
        "dados_ordenados = (df.groupby('artista')['compound'].mean()\n",
        "                   .sort_values(ascending=True))\n",
        "\n",
        "# Determinar as cores com base nos valores\n",
        "cores = np.where(dados_ordenados < 0, 'red', 'blue')\n",
        "\n",
        "# Criar o gráfico de barras\n",
        "trace = go.Bar(x=dados_ordenados.index,\n",
        "               y=dados_ordenados.values,\n",
        "               name='Sentimento',\n",
        "               marker={'color': cores})\n",
        "data = [trace]\n",
        "\n",
        "# Configurar o layout do gráfico com o template escuro e sem grades\n",
        "layout = go.Layout(\n",
        "    title=f'Variação por artistas (sentimentos)',\n",
        "    xaxis={'title': 'Artistas', 'tickangle': -90, 'showgrid': False},\n",
        "    yaxis={'title': 'Sentimento', 'showgrid': False}\n",
        ")\n",
        "\n",
        "# Criar a figura e mostrar o gráfico\n",
        "fig = go.Figure(data=data, layout=layout)\n",
        "fig.show()"
      ],
      "metadata": {
        "id": "KEPl3dLr7FvT"
      },
      "execution_count": null,
      "outputs": []
    },
    {
      "cell_type": "code",
      "source": [
        "# Chamar a função para gerar e exibir as nuvens de palavras organizadas em dois por dois\n",
        "gerar_nuvens_em_subplots(df)"
      ],
      "metadata": {
        "id": "1hk-mZVIAP8l"
      },
      "execution_count": null,
      "outputs": []
    },
    {
      "cell_type": "code",
      "source": [
        "# Chamar a função para obter os termos mais frequentes por artista\n",
        "termos_mais_utilizados = contar_termos_mais_frequentes(df, top_n=10)\n",
        "\n",
        "# Chamar a função para gerar os gráficos de barras\n",
        "gerar_graficos_barras(termos_mais_utilizados)"
      ],
      "metadata": {
        "id": "WJMFcAIwFpxc"
      },
      "execution_count": null,
      "outputs": []
    },
    {
      "cell_type": "code",
      "source": [],
      "metadata": {
        "id": "zj5QKqilJ7fZ"
      },
      "execution_count": null,
      "outputs": []
    },
    {
      "cell_type": "code",
      "source": [
        "# Chamar a função para calcular a média de palavras por artista\n",
        "media_palavras_por_artista = calcular_media_palavras(df)\n",
        "\n",
        "# Chamar a função para gerar o gráfico da média de palavras por artista\n",
        "gerar_grafico_media_palavras(media_palavras_por_artista)"
      ],
      "metadata": {
        "id": "XzTreUPDKCgn"
      },
      "execution_count": null,
      "outputs": []
    }
  ]
}